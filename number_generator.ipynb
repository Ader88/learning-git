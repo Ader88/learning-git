{
 "cells": [
  {
   "cell_type": "markdown",
   "id": "cf7e23e5-0da3-4e18-986f-7b9c1c213c38",
   "metadata": {
    "tags": []
   },
   "source": [
    "# GENERATOR LICZB CAŁKOWITYCH\n",
    "\n",
    "# Opis:\n",
    "Ten prosty skrypt w języku Python wykorzystuje generator do iteracji po liczbach całkowitych od 1 do N (włącznie), gdzie N jest wartością określoną przez użytkownika. Następnie oblicza sumę tych liczb i wyświetla ją na ekranie.\n",
    "\n",
    "# Jak używać?\n",
    "1) Skopiuj powyższy kod i wklej go do interpretera Pythona na swoim komputerze (np. Visual Studio Code).\n",
    "2) Uruchom skrypt.\n",
    "3) Zobaczysz sumę liczb od 1 do N, gdzie N jest określone przez użytkownika.\n",
    "\n",
    "# Funkcja generator_liczb(N):\n",
    "Ta funkcja jest generatorem, który iteruje po liczbach całkowitych od 1 do N (włącznie). N jest wartością górną zakresu, do którego iterujemy.\n",
    "\n",
    "# Skrypt:"
   ]
  },
  {
   "cell_type": "code",
   "execution_count": null,
   "id": "a877d24e-b6a5-4a27-b81f-8d06f72f314b",
   "metadata": {},
   "outputs": [],
   "source": [
    "def generator_liczb(N):\n",
    "    for i in range(1, N+1):\n",
    "        yield i\n",
    "\n",
    "N = 10  # Przykładowa wartość N\n",
    "suma = sum(generator_liczb(N))\n",
    "print(\"Suma liczb od 1 do\", N, \"to:\", suma)"
   ]
  }
 ],
 "metadata": {
  "kernelspec": {
   "display_name": "Python 3 (ipykernel)",
   "language": "python",
   "name": "python3"
  },
  "language_info": {
   "codemirror_mode": {
    "name": "ipython",
    "version": 3
   },
   "file_extension": ".py",
   "mimetype": "text/x-python",
   "name": "python",
   "nbconvert_exporter": "python",
   "pygments_lexer": "ipython3",
   "version": "3.11.5"
  }
 },
 "nbformat": 4,
 "nbformat_minor": 5
}
