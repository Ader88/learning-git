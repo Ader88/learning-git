{
 "cells": [
  {
   "cell_type": "markdown",
   "id": "999e6e97-6291-4be9-91c0-a113d15d0dc3",
   "metadata": {},
   "source": [
    "# Tworzenie funkcji w Pythonie\n",
    "\n",
    "Aby stworzyć funkcję w Pythonie, używamy słowa kluczowego `def`, a następnie nazwy funkcji, po której podajemy nawiasy okrągłe z ewentualnymi argumentami. Po dwukropku rozpoczynamy blok kodu funkcji. Na przykład:"
   ]
  },
  {
   "cell_type": "code",
   "execution_count": 2,
   "id": "c4a2544b-c6cd-4791-bfd2-96a28fc2d59e",
   "metadata": {
    "tags": []
   },
   "outputs": [],
   "source": [
    "def dodaj(a, b):\n",
    "    return a + b"
   ]
  },
  {
   "cell_type": "markdown",
   "id": "e021c329-1ac4-4736-983c-389e05aa630b",
   "metadata": {},
   "source": [
    "# Wywoływanie funkcji w Pythonie\n",
    "\n",
    "Aby wywołać funkcję w Pythonie, używamy nazwy funkcji, po której podajemy nawiasy okrągłe zawierające ewentualne argumenty, jeśli są wymagane."
   ]
  },
  {
   "cell_type": "code",
   "execution_count": 3,
   "id": "7ebe22a2-4b44-4fe2-a1b1-b51bdde6f1d4",
   "metadata": {
    "tags": []
   },
   "outputs": [
    {
     "name": "stdout",
     "output_type": "stream",
     "text": [
      "Wynik dodawania:  8\n"
     ]
    }
   ],
   "source": [
    "# Wywołanie funkcji dodaj()\n",
    "wynik = dodaj(3, 5)\n",
    "print(\"Wynik dodawania: \", wynik)"
   ]
  }
 ],
 "metadata": {
  "kernelspec": {
   "display_name": "Python 3 (ipykernel)",
   "language": "python",
   "name": "python3"
  },
  "language_info": {
   "codemirror_mode": {
    "name": "ipython",
    "version": 3
   },
   "file_extension": ".py",
   "mimetype": "text/x-python",
   "name": "python",
   "nbconvert_exporter": "python",
   "pygments_lexer": "ipython3",
   "version": "3.11.5"
  }
 },
 "nbformat": 4,
 "nbformat_minor": 5
}
